{
 "cells": [
  {
   "cell_type": "code",
   "execution_count": null,
   "id": "525ca184",
   "metadata": {
    "scrolled": true
   },
   "outputs": [],
   "source": [
    "import pandas as pd\n",
    "\n",
    "pd.set_option('display.max_colwidth', None)\n",
    "pd.set_option('display.max_columns', None)\n",
    "\n",
    "df = pd.read_csv('savano-mal-dataset/anime.csv', delimiter='\\t')"
   ]
  },
  {
   "cell_type": "code",
   "execution_count": null,
   "id": "9b065165",
   "metadata": {},
   "outputs": [],
   "source": [
    "# List of phrases like sequels and prequels to check for so that we can remove the rows containing these phrases and just keep the original show\n",
    "season_phrases_to_remove = [\"2nd season\", \"3rd season\", \"4th season\", \"5th season\", \"6th season\", \n",
    "                     \"second season\", \"third season\", \"fourth season\", \"fifth season\", \"sixth season\",\n",
    "                     \"second continuation\", \"third continuation\", \"fourth continuation\", \"fifth continuation\", \"sixth continuation\",\n",
    "                     \"second series\", \"third series\", \"fourth series\", \"fifth series\", \"sixth series\",\n",
    "                     \"second show\", \"third show\", \"fourth show\", \"fifth show\", \"sixth show\"\n",
    "                     \"second animated\", \"third animated\", \"fourth animated\", \"fifth animated\", \"sixth animated\",\n",
    "                     \"2nd animated\", \"3rd animated\", \"4th animated\", \"5th animated\", \"6th animated\",\n",
    "                     \"sequel\", \"prequel\", \"adaptation\", \"continuation\", \"bundled\", \"aired\", \"bonus episode\", \n",
    "                     \"dvd\", \"based on\", \"series\", \"episode\", \"episodes\", \"ova\", \"specials\", \":\", \"movie\"]\n",
    "\n",
    "# List of inappropriate phrases to check for so that we can remove the rows containing these phrases\n",
    "inappropriate_phrases_to_remove = [\"erotica\", \"hentai\"]\n",
    "\n",
    "# Create a boolean masks for rows to filter them out later\n",
    "synopsis_season_mask = df['synopsis'].str.contains('|'.join(season_phrases_to_remove), case=False)\n",
    "title_season_mask = df['title'].str.contains('|'.join(season_phrases_to_remove), case=False)\n",
    "inappropriate_phrases_mask = df['genres'].str.contains('|'.join(inappropriate_phrases_to_remove), case=False)\n",
    "combined_phrases_mask = synopsis_season_mask | title_season_mask | inappropriate_phrases_mask\n",
    "\n",
    "# Use boolean indexing to keep only rows where the mask is False (phrases are not present)\n",
    "cleaned_phrases_df = df[~combined_phrases_mask]"
   ]
  },
  {
   "cell_type": "code",
   "execution_count": null,
   "id": "61fe808b",
   "metadata": {},
   "outputs": [],
   "source": [
    "# Create a regex pattern to match a range of characters outside ASCII using Unicode character codes\n",
    "pattern = \"[\\u0080-\\uFFFF]\"  # Matches characters outside the ASCII range\n",
    "\n",
    "# Create a boolean masks for rows to filter them out later\n",
    "synopsis_ascii_mask = cleaned_phrases_df['synopsis'].str.contains(pattern, regex=True)\n",
    "title_ascii_mask = cleaned_phrases_df['title'].str.contains(pattern, regex=True)\n",
    "combined_ascii_mask = synopsis_ascii_mask | title_ascii_mask\n",
    "\n",
    "# Use boolean indexing to keep only rows where the mask is False (characters outside ASCII range are not present)\n",
    "cleaned_ascii_df = cleaned_phrases_df[~combined_ascii_mask]"
   ]
  },
  {
   "cell_type": "code",
   "execution_count": null,
   "id": "e351ec6f",
   "metadata": {},
   "outputs": [],
   "source": [
    "# Function to count words in a cell\n",
    "def count_words(cell_value):\n",
    "    if isinstance(cell_value, str):\n",
    "        words = cell_value.split()\n",
    "        return len(words)\n",
    "    else:\n",
    "        return 0  # Return 0 for non-string values\n",
    "\n",
    "# Apply the function to each cell in the 'synopsis' column and create a boolean mask\n",
    "word_counts = cleaned_ascii_df['synopsis'].apply(count_words)\n",
    "mask = word_counts > 22 \n",
    "\n",
    "# Use boolean indexing to keep only rows where the word count is > 22\n",
    "word_num_df = cleaned_ascii_df[mask]"
   ]
  },
  {
   "cell_type": "code",
   "execution_count": null,
   "id": "15693acb",
   "metadata": {},
   "outputs": [],
   "source": [
    "# Make a copy of original df with relevant columns for value manipulation\n",
    "cleaned_df = word_num_df[['title', 'synopsis', 'genres', 'start_date', 'status', 'popularity_rank']].copy()\n",
    "# Remove the \"Source: XYZ\" text from 'synopsis' column\n",
    "cleaned_df['synopsis'] = cleaned_df['synopsis'].str.replace(r'.{1}Source:.*', '', regex=True)"
   ]
  },
  {
   "cell_type": "code",
   "execution_count": null,
   "id": "5b887d30",
   "metadata": {},
   "outputs": [],
   "source": [
    "# Convert 'start_date' column to \"start_year\" and remove null values\n",
    "cleaned_df['start_date'] = pd.to_datetime(cleaned_df['start_date'])\n",
    "cleaned_df['start_date'] = cleaned_df['start_date'].dt.year\n",
    "cleaned_df.rename(columns={'start_date': 'start_year'}, inplace=True)\n",
    "cleaned_df = cleaned_df[~cleaned_df.start_year.isnull()]"
   ]
  },
  {
   "cell_type": "code",
   "execution_count": null,
   "id": "9114ca2d",
   "metadata": {},
   "outputs": [],
   "source": [
    "cleaned_df.to_csv('cleanedQuizData.csv', index=False)"
   ]
  }
 ],
 "metadata": {
  "kernelspec": {
   "display_name": "Python 3 (ipykernel)",
   "language": "python",
   "name": "python3"
  },
  "language_info": {
   "codemirror_mode": {
    "name": "ipython",
    "version": 3
   },
   "file_extension": ".py",
   "mimetype": "text/x-python",
   "name": "python",
   "nbconvert_exporter": "python",
   "pygments_lexer": "ipython3",
   "version": "3.11.4"
  }
 },
 "nbformat": 4,
 "nbformat_minor": 5
}
